{
 "cells": [
  {
   "cell_type": "markdown",
   "metadata": {},
   "source": [
    "# Assignment 3 - Text Analysis\n",
    "An explanation this assignment could be found in the .pdf explanation document"
   ]
  },
  {
   "cell_type": "markdown",
   "metadata": {},
   "source": [
    "\n",
    "## Materials to review for this assignment\n",
    "<h4>From Moodle:</h4> \n",
    "<h5><u>Review the notebooks regarding the following python topics</u>:</h5>\n",
    "<div class=\"alert alert-info\">\n",
    "&#x2714; <b>Working with strings</b> (tutorial notebook)<br/>\n",
    "&#x2714; <b>Text Analysis</b> (tutorial notebook)<br/>\n",
    "&#x2714; <b>Hebrew text analysis tools (tokenizer, wordnet)</b> (moodle example)<br/>\n",
    "&#x2714; <b>(brief review) All previous notebooks</b><br/>\n",
    "</div> \n",
    "<h5><u>Review the presentations regarding the following topics</u>:</h5>\n",
    "<div class=\"alert alert-info\">\n",
    "&#x2714; <b>Text Analysis</b> (lecture presentation)<br/>\n",
    "&#x2714; <b>(brief review) All other presentations</b><br/>\n",
    "</div>"
   ]
  },
  {
   "cell_type": "markdown",
   "metadata": {},
   "source": [
    "## Personal Details:"
   ]
  },
  {
   "cell_type": "markdown",
   "metadata": {},
   "source": [
    "# Details Student 1:\n",
    "Michael Volobuev 215016494\n",
    "# Details Student 2:\n",
    "Mikey Torbin 328372883"
   ]
  },
  {
   "cell_type": "markdown",
   "metadata": {},
   "source": [
    "## Preceding Step - import modules (packages)\n",
    "This step is necessary in order to use external modules (packages). <br/>"
   ]
  },
  {
   "cell_type": "code",
   "execution_count": 1,
   "metadata": {},
   "outputs": [],
   "source": [
    "# --------------------------------------\n",
    "import pandas as pd\n",
    "import numpy as np\n",
    "# --------------------------------------\n",
    "\n",
    "\n",
    "# --------------------------------------\n",
    "# ------------- visualizations:\n",
    "import seaborn as sns\n",
    "import matplotlib.pyplot as plt\n",
    "from matplotlib.colors import ListedColormap\n",
    "# --------------------------------------\n",
    "\n",
    "\n",
    "# ---------------------------------------\n",
    "import sklearn\n",
    "from sklearn import preprocessing, metrics, pipeline, model_selection, feature_extraction \n",
    "from sklearn import naive_bayes, linear_model, svm, neural_network, neighbors, tree\n",
    "from sklearn import decomposition, cluster\n",
    "\n",
    "from sklearn.model_selection import train_test_split, cross_val_score, GridSearchCV \n",
    "from sklearn.pipeline import Pipeline\n",
    "from sklearn.metrics import accuracy_score, confusion_matrix\n",
    "from sklearn.metrics import precision_score, recall_score, f1_score\n",
    "from sklearn.metrics import mean_squared_error, r2_score, silhouette_score\n",
    "from sklearn.preprocessing import MinMaxScaler, StandardScaler, LabelEncoder\n",
    "\n",
    "from sklearn.svm import LinearSVC\n",
    "from sklearn.neural_network import MLPClassifier\n",
    "from sklearn.linear_model import Perceptron, SGDClassifier\n",
    "from sklearn.decomposition import PCA\n",
    "from sklearn.cluster import KMeans\n",
    "from sklearn.naive_bayes import MultinomialNB, GaussianNB\n",
    "from sklearn.neighbors import KNeighborsClassifier\n",
    "from sklearn.tree import DecisionTreeClassifier\n",
    "# ---------------------------------------\n",
    "\n",
    "from sklearn.feature_selection import SelectKBest, chi2 ,mutual_info_classif\n",
    "from sklearn.svm import SVC \n",
    "from numpy import mean ,std\n",
    "from sklearn.model_selection import  cross_validate ,RepeatedKFold , RepeatedStratifiedKFold\n",
    "from sklearn.linear_model import LogisticRegression\n",
    "from matplotlib import pyplot\n",
    "from sklearn.ensemble import StackingClassifier ,AdaBoostClassifier , BaggingClassifier\n",
    "\n",
    "# ----------------- output and visualizations: \n",
    "import warnings\n",
    "from sklearn.exceptions import ConvergenceWarning\n",
    "warnings.simplefilter(\"ignore\")\n",
    "warnings.simplefilter(action='ignore', category=FutureWarning)\n",
    "warnings.simplefilter(\"ignore\", category=ConvergenceWarning)\n",
    "# show several prints in one cell. This will allow us to condence every trick in one cell.\n",
    "from IPython.core.interactiveshell import InteractiveShell\n",
    "InteractiveShell.ast_node_interactivity = \"all\"\n",
    "%matplotlib inline\n",
    "pd.pandas.set_option('display.max_columns', None)\n",
    "pd.set_option('display.float_format', lambda x: '%.3f' % x)\n",
    "# ---------------------------------------"
   ]
  },
  {
   "cell_type": "markdown",
   "metadata": {},
   "source": [
    "### Text analysis and String manipulation imports:"
   ]
  },
  {
   "cell_type": "code",
   "execution_count": 2,
   "metadata": {},
   "outputs": [],
   "source": [
    "# --------------------------------------\n",
    "# --------- Text analysis and Hebrew text analysis imports:\n",
    "# vectorizers:\n",
    "from sklearn.feature_extraction import text\n",
    "from sklearn.feature_extraction.text import CountVectorizer, TfidfVectorizer\n",
    "\n",
    "# regular expressions:\n",
    "import re\n",
    "# --------------------------------------"
   ]
  },
  {
   "cell_type": "markdown",
   "metadata": {},
   "source": [
    "### (optional) Hebrew text analysis - WordNet (for Hebrew)\n",
    "Note: the WordNet is not a must"
   ]
  },
  {
   "cell_type": "markdown",
   "metadata": {},
   "source": [
    "#### (optional) Only if you didn't install Wordnet (for Hebrew) use:"
   ]
  },
  {
   "cell_type": "code",
   "execution_count": 3,
   "metadata": {},
   "outputs": [],
   "source": [
    "# word net installation:\n",
    "\n",
    "# unmark if you want to use and need to install\n",
    "# !pip install wn\n",
    "# !python -m wn download omw-he:1.4"
   ]
  },
  {
   "cell_type": "code",
   "execution_count": 4,
   "metadata": {},
   "outputs": [],
   "source": [
    "# word net import:\n",
    "\n",
    "# unmark if you want to use:\n",
    "# import wn"
   ]
  },
  {
   "cell_type": "markdown",
   "metadata": {},
   "source": [
    "### (optional) Hebrew text analysis - hebrew_tokenizer (Tokenizer for Hebrew)\n",
    "Note: the hebrew_tokenizer is not a must"
   ]
  },
  {
   "cell_type": "markdown",
   "metadata": {},
   "source": [
    "#### (optional) Only if you didn't install hebrew_tokenizer use:"
   ]
  },
  {
   "cell_type": "code",
   "execution_count": 5,
   "metadata": {},
   "outputs": [
    {
     "name": "stdout",
     "output_type": "stream",
     "text": [
      "Requirement already satisfied: hebrew_tokenizer in c:\\users\\michael\\anaconda3\\lib\\site-packages (2.3.0)\n"
     ]
    }
   ],
   "source": [
    "# Hebrew tokenizer installation:\n",
    "\n",
    "# unmark if you want to use and need to install:\n",
    "!pip install hebrew_tokenizer"
   ]
  },
  {
   "cell_type": "code",
   "execution_count": 6,
   "metadata": {},
   "outputs": [
    {
     "name": "stdout",
     "output_type": "stream",
     "text": [
      "C:\\Users\\Michael\\Desktop\\ASS3\\assignment3-text_analysis\n"
     ]
    }
   ],
   "source": [
    "# Hebrew tokenizer import:\n",
    "\n",
    "# unmark if you want to use:\n",
    "import hebrew_tokenizer as ht"
   ]
  },
  {
   "cell_type": "markdown",
   "metadata": {},
   "source": [
    "### Reading input files\n",
    "Reading input files for train annotated corpus (raw text data) corpus and for the test corpus"
   ]
  },
  {
   "cell_type": "code",
   "execution_count": 7,
   "metadata": {},
   "outputs": [],
   "source": [
    "train_filename = 'annotated_corpus_for_train.csv'\n",
    "test_filename  = 'corpus_for_test.csv'\n",
    "df_train = pd.read_csv(train_filename, index_col=None, encoding='utf-8')\n",
    "df_test  = pd.read_csv(test_filename, index_col=None, encoding='utf-8')"
   ]
  },
  {
   "cell_type": "code",
   "execution_count": 8,
   "metadata": {},
   "outputs": [
    {
     "data": {
      "text/html": [
       "<div>\n",
       "<style scoped>\n",
       "    .dataframe tbody tr th:only-of-type {\n",
       "        vertical-align: middle;\n",
       "    }\n",
       "\n",
       "    .dataframe tbody tr th {\n",
       "        vertical-align: top;\n",
       "    }\n",
       "\n",
       "    .dataframe thead th {\n",
       "        text-align: right;\n",
       "    }\n",
       "</style>\n",
       "<table border=\"1\" class=\"dataframe\">\n",
       "  <thead>\n",
       "    <tr style=\"text-align: right;\">\n",
       "      <th></th>\n",
       "      <th>story</th>\n",
       "      <th>gender</th>\n",
       "    </tr>\n",
       "  </thead>\n",
       "  <tbody>\n",
       "    <tr>\n",
       "      <th>0</th>\n",
       "      <td>כשחבר הזמין אותי לחול, לא באמת חשבתי שזה יקרה,...</td>\n",
       "      <td>m</td>\n",
       "    </tr>\n",
       "    <tr>\n",
       "      <th>1</th>\n",
       "      <td>לפני שהתגייסתי לצבא עשיתי כל מני מיונים ליחידו...</td>\n",
       "      <td>m</td>\n",
       "    </tr>\n",
       "    <tr>\n",
       "      <th>2</th>\n",
       "      <td>מאז שהתחילו הלימודים חלומו של כל סטודנט זה הפנ...</td>\n",
       "      <td>f</td>\n",
       "    </tr>\n",
       "    <tr>\n",
       "      <th>3</th>\n",
       "      <td>כשהייתי ילד, מטוסים היה הדבר שהכי ריתק אותי. ב...</td>\n",
       "      <td>m</td>\n",
       "    </tr>\n",
       "    <tr>\n",
       "      <th>4</th>\n",
       "      <td>‏הייתי מדריכה בכפר נוער ומתאם הכפר היינו צריכי...</td>\n",
       "      <td>f</td>\n",
       "    </tr>\n",
       "    <tr>\n",
       "      <th>5</th>\n",
       "      <td>לפני כ3 חודשים טסתי לרומא למשך שבוע. טסתי במטו...</td>\n",
       "      <td>f</td>\n",
       "    </tr>\n",
       "    <tr>\n",
       "      <th>6</th>\n",
       "      <td>אני כבר שנתיים נשוי והשנה אני ואישתי סוף סוף י...</td>\n",
       "      <td>m</td>\n",
       "    </tr>\n",
       "    <tr>\n",
       "      <th>7</th>\n",
       "      <td>השנה התחלנו שיפוץ בדירה שלנו בתל אביב. הדירה ה...</td>\n",
       "      <td>f</td>\n",
       "    </tr>\n",
       "  </tbody>\n",
       "</table>\n",
       "</div>"
      ],
      "text/plain": [
       "                                               story gender\n",
       "0  כשחבר הזמין אותי לחול, לא באמת חשבתי שזה יקרה,...      m\n",
       "1  לפני שהתגייסתי לצבא עשיתי כל מני מיונים ליחידו...      m\n",
       "2  מאז שהתחילו הלימודים חלומו של כל סטודנט זה הפנ...      f\n",
       "3  כשהייתי ילד, מטוסים היה הדבר שהכי ריתק אותי. ב...      m\n",
       "4  ‏הייתי מדריכה בכפר נוער ומתאם הכפר היינו צריכי...      f\n",
       "5  לפני כ3 חודשים טסתי לרומא למשך שבוע. טסתי במטו...      f\n",
       "6  אני כבר שנתיים נשוי והשנה אני ואישתי סוף סוף י...      m\n",
       "7  השנה התחלנו שיפוץ בדירה שלנו בתל אביב. הדירה ה...      f"
      ]
     },
     "execution_count": 8,
     "metadata": {},
     "output_type": "execute_result"
    },
    {
     "data": {
      "text/plain": [
       "(753, 2)"
      ]
     },
     "execution_count": 8,
     "metadata": {},
     "output_type": "execute_result"
    }
   ],
   "source": [
    "df_train.head(8)\n",
    "df_train.shape"
   ]
  },
  {
   "cell_type": "code",
   "execution_count": 9,
   "metadata": {},
   "outputs": [
    {
     "data": {
      "text/html": [
       "<div>\n",
       "<style scoped>\n",
       "    .dataframe tbody tr th:only-of-type {\n",
       "        vertical-align: middle;\n",
       "    }\n",
       "\n",
       "    .dataframe tbody tr th {\n",
       "        vertical-align: top;\n",
       "    }\n",
       "\n",
       "    .dataframe thead th {\n",
       "        text-align: right;\n",
       "    }\n",
       "</style>\n",
       "<table border=\"1\" class=\"dataframe\">\n",
       "  <thead>\n",
       "    <tr style=\"text-align: right;\">\n",
       "      <th></th>\n",
       "      <th>test_example_id</th>\n",
       "      <th>story</th>\n",
       "    </tr>\n",
       "  </thead>\n",
       "  <tbody>\n",
       "    <tr>\n",
       "      <th>0</th>\n",
       "      <td>0</td>\n",
       "      <td>כל קיץ אני והמשפחה נוסעים לארצות הברית לוס אנג...</td>\n",
       "    </tr>\n",
       "    <tr>\n",
       "      <th>1</th>\n",
       "      <td>1</td>\n",
       "      <td>הגעתי לשירות המדינה אחרי שנתיים כפעיל בתנועת \"...</td>\n",
       "    </tr>\n",
       "    <tr>\n",
       "      <th>2</th>\n",
       "      <td>2</td>\n",
       "      <td>אחת האהבות הגדולות שלי אלו הכלבים שלי ושל אישת...</td>\n",
       "    </tr>\n",
       "  </tbody>\n",
       "</table>\n",
       "</div>"
      ],
      "text/plain": [
       "   test_example_id                                              story\n",
       "0                0  כל קיץ אני והמשפחה נוסעים לארצות הברית לוס אנג...\n",
       "1                1  הגעתי לשירות המדינה אחרי שנתיים כפעיל בתנועת \"...\n",
       "2                2  אחת האהבות הגדולות שלי אלו הכלבים שלי ושל אישת..."
      ]
     },
     "execution_count": 9,
     "metadata": {},
     "output_type": "execute_result"
    },
    {
     "data": {
      "text/plain": [
       "(323, 2)"
      ]
     },
     "execution_count": 9,
     "metadata": {},
     "output_type": "execute_result"
    }
   ],
   "source": [
    "df_test.head(3)\n",
    "df_test.shape"
   ]
  },
  {
   "cell_type": "code",
   "execution_count": 10,
   "metadata": {},
   "outputs": [
    {
     "data": {
      "text/plain": [
       "m    575\n",
       "f    178\n",
       "Name: gender, dtype: int64"
      ]
     },
     "execution_count": 10,
     "metadata": {},
     "output_type": "execute_result"
    }
   ],
   "source": [
    "df_train['gender'].value_counts()"
   ]
  },
  {
   "cell_type": "markdown",
   "metadata": {},
   "source": [
    "### Your implementation:\n",
    "Write your code solution in the following code-cells"
   ]
  },
  {
   "cell_type": "code",
   "execution_count": 11,
   "metadata": {},
   "outputs": [],
   "source": [
    "# Function to clean text data by removing numbers, special characters, and extra spaces\n",
    "def clean_text(text):\n",
    "    text = re.sub(r'\\d+', '', text)\n",
    "    text = re.sub(r'[^\\w\\s]', '', text)\n",
    "    text = re.sub(r'\\s+', ' ', text)\n",
    "    text = text.strip()\n",
    "    return text"
   ]
  },
  {
   "cell_type": "code",
   "execution_count": 12,
   "metadata": {},
   "outputs": [],
   "source": [
    "def prepare_data(vectorizer='TfidfVectorizer', ngram_range=(1, 1), min_df=5, k=1000, test=False):\n",
    "    # Check if preparing test data\n",
    "    if test:\n",
    "        # Load test dataset from CSV\n",
    "        test_filename = 'corpus_for_test.csv'\n",
    "        df = pd.read_csv(test_filename, index_col=None, encoding='utf-8')\n",
    "        \n",
    "        # Apply text cleaning to the 'story' column\n",
    "        df['story'] = df['story'].apply(clean_text)\n",
    "        \n",
    "        # Initialize the vectorizer (TF-IDF or CountVectorizer)\n",
    "        vectorizer = TfidfVectorizer(min_df=min_df, ngram_range=ngram_range)\n",
    "\n",
    "        # Transform test text data into numerical features\n",
    "        X_test = df['story']\n",
    "        X_test_vect = vectorizer.transform(X_test)  # Use transform instead of fit_transform\n",
    "\n",
    "        # Select top k features using mutual information\n",
    "        selector = SelectKBest(mutual_info_classif, k=k)\n",
    "        X_test_selected = selector.transform(X_test_vect)\n",
    "\n",
    "        # Scale the selected features using Min-Max scaling\n",
    "        scaler = MinMaxScaler()\n",
    "        X_test_scaled = scaler.fit_transform(X_test_selected.toarray())\n",
    "        \n",
    "        # Return the preprocessed test data (text and scaled features)\n",
    "        return df['story'], X_test_scaled\n",
    "\n",
    "    # Preparing training data\n",
    "    train_filename = 'annotated_corpus_for_train.csv'\n",
    "    df = pd.read_csv(train_filename, index_col=None, encoding='utf-8')\n",
    "\n",
    "    # Apply text cleaning to the 'story' column with Hebrew language\n",
    "    df['story'] = df['story'].apply(clean_text)\n",
    "\n",
    "    # Split data into training and test sets\n",
    "    X_train, X_test, y_train, y_test = train_test_split(df['story'], df['gender'], test_size=0.2, random_state=42)\n",
    "\n",
    "    # Initialize the vectorizer based on the selected type (TF-IDF or CountVectorizer)\n",
    "    if vectorizer == 'TfidfVectorizer':\n",
    "        vectorizer = TfidfVectorizer(min_df=min_df, ngram_range=ngram_range)\n",
    "    if vectorizer == 'CountVectorizer':\n",
    "        vectorizer = CountVectorizer(min_df=min_df)\n",
    "\n",
    "    # Transform training and test text data into numerical features\n",
    "    X_train_vect = vectorizer.fit_transform(X_train)\n",
    "    X_test_vect = vectorizer.transform(X_test)\n",
    "\n",
    "    # Select top k features using mutual information on the training data\n",
    "    selector = SelectKBest(mutual_info_classif, k=k)\n",
    "    selector.fit(X_train_vect, y_train)\n",
    "\n",
    "    # Transform training and test data to keep only the selected features\n",
    "    X_train_selected = selector.transform(X_train_vect)\n",
    "    X_test_selected = selector.transform(X_test_vect)\n",
    "\n",
    "    # Scale the selected features using Min-Max scaling\n",
    "    scaler = MinMaxScaler()\n",
    "    X_train_scaled = scaler.fit_transform(X_train_selected.toarray())\n",
    "    X_test_scaled = scaler.transform(X_test_selected.toarray())\n",
    "    \n",
    "    # Return the preprocessed training and test data\n",
    "    return X_train_scaled, X_test_scaled, X_train, X_test, y_train, y_test\n"
   ]
  },
  {
   "cell_type": "code",
   "execution_count": 13,
   "metadata": {},
   "outputs": [],
   "source": [
    "# Function to create a dictionary of machine learning models with hyperparameters\n",
    "def create_models(params):\n",
    "    models = dict()\n",
    "    models['logistic_regression'] = LogisticRegression(**params['logistic_regression'])\n",
    "    models['knn'] = KNeighborsClassifier(**params['knn'])\n",
    "    models['decision_tree'] = DecisionTreeClassifier(**params['decision_tree'])\n",
    "    models['svm'] = SVC(**params['svm'])\n",
    "    models['linear_svc'] = LinearSVC(**params['linear_svc'])\n",
    "    models['mlp'] = MLPClassifier(**params['mlp'])\n",
    "    models['perceptron'] = Perceptron(**params['perceptron'])\n",
    "    models['sgd'] = SGDClassifier(**params['sgd'])\n",
    "    return models"
   ]
  },
  {
   "cell_type": "code",
   "execution_count": 14,
   "metadata": {},
   "outputs": [],
   "source": [
    "# Function to find the best hyperparameters for the models\n",
    "def find_best_hyperparams(models, X_train_selected, y_train):\n",
    "    # Dictionary to store the best hyperparameters for each model\n",
    "    best_params = {}\n",
    "    # Iterate through the models and find the best hyperparameters\n",
    "    for name, model in models.items():\n",
    "        print(\"Tuning\", name)\n",
    "        clf = GridSearchCV(model, params[name], cv=5, n_jobs=-1)\n",
    "        clf.fit(X_train_selected, y_train)\n",
    "        best_params[name] = clf.best_params_\n",
    "        \n",
    "    return best_params\n"
   ]
  },
  {
   "cell_type": "code",
   "execution_count": 15,
   "metadata": {},
   "outputs": [
    {
     "name": "stdout",
     "output_type": "stream",
     "text": [
      "Tuning logistic_regression\n",
      "Tuning knn\n",
      "Tuning decision_tree\n",
      "Tuning svm\n",
      "Tuning linear_svc\n",
      "Tuning mlp\n",
      "Tuning perceptron\n",
      "Tuning sgd\n",
      "logistic_regression\n",
      "LogisticRegression(C=1)\n",
      ">logistic_regression Accuracy: 0.759 (0.094)\n",
      "F1 Score (female): 0.444\n",
      "F1 Score (male): 0.879\n",
      "F1 Score (average_f1): 0.662\n",
      "\n",
      "True Labels - Count (m): 114\n",
      "True Labels - Count (f): 37\n",
      "Predicted Labels - Count (m): 134\n",
      "Predicted Labels - Count (f): 17\n",
      "\n",
      "**************************\n",
      "\n",
      "knn\n",
      "KNeighborsClassifier(weights='distance')\n",
      ">knn Accuracy: 0.753 (0.091)\n",
      "F1 Score (female): 0.000\n",
      "F1 Score (male): 0.860\n",
      "F1 Score (average_f1): 0.430\n",
      "\n",
      "True Labels - Count (m): 114\n",
      "True Labels - Count (f): 37\n",
      "Predicted Labels - Count (m): 151\n",
      "Predicted Labels - Count (f): 0\n",
      "\n",
      "**************************\n",
      "\n",
      "decision_tree\n",
      "DecisionTreeClassifier(criterion='entropy', max_depth=3)\n",
      ">decision_tree Accuracy: 0.686 (0.098)\n",
      "F1 Score (female): 0.423\n",
      "F1 Score (male): 0.880\n",
      "F1 Score (average_f1): 0.652\n",
      "\n",
      "True Labels - Count (m): 114\n",
      "True Labels - Count (f): 37\n",
      "Predicted Labels - Count (m): 136\n",
      "Predicted Labels - Count (f): 15\n",
      "\n",
      "**************************\n",
      "\n",
      "svm\n",
      "SVC(C=0.1, kernel='linear')\n",
      ">svm Accuracy: 0.766 (0.097)\n",
      "F1 Score (female): 0.456\n",
      "F1 Score (male): 0.873\n",
      "F1 Score (average_f1): 0.665\n",
      "\n",
      "True Labels - Count (m): 114\n",
      "True Labels - Count (f): 37\n",
      "Predicted Labels - Count (m): 131\n",
      "Predicted Labels - Count (f): 20\n",
      "\n",
      "**************************\n",
      "\n",
      "linear_svc\n",
      "LinearSVC(C=1, dual=False)\n",
      ">linear_svc Accuracy: 0.771 (0.094)\n",
      "F1 Score (female): 0.478\n",
      "F1 Score (male): 0.851\n",
      "F1 Score (average_f1): 0.664\n",
      "\n",
      "True Labels - Count (m): 114\n",
      "True Labels - Count (f): 37\n",
      "Predicted Labels - Count (m): 121\n",
      "Predicted Labels - Count (f): 30\n",
      "\n",
      "**************************\n",
      "\n",
      "mlp\n",
      "MLPClassifier(activation='tanh', hidden_layer_sizes=(50, 100, 50))\n",
      ">mlp Accuracy: 0.757 (0.100)\n",
      "F1 Score (female): 0.529\n",
      "F1 Score (male): 0.863\n",
      "F1 Score (average_f1): 0.696\n",
      "\n",
      "True Labels - Count (m): 114\n",
      "True Labels - Count (f): 37\n",
      "Predicted Labels - Count (m): 120\n",
      "Predicted Labels - Count (f): 31\n",
      "\n",
      "**************************\n",
      "\n",
      "perceptron\n",
      "Perceptron()\n",
      ">perceptron Accuracy: 0.771 (0.109)\n",
      "F1 Score (female): 0.629\n",
      "F1 Score (male): 0.888\n",
      "F1 Score (average_f1): 0.758\n",
      "\n",
      "True Labels - Count (m): 114\n",
      "True Labels - Count (f): 37\n",
      "Predicted Labels - Count (m): 118\n",
      "Predicted Labels - Count (f): 33\n",
      "\n",
      "**************************\n",
      "\n",
      "sgd\n",
      "SGDClassifier(loss='perceptron')\n",
      ">sgd Accuracy: 0.757 (0.106)\n",
      "F1 Score (female): 0.452\n",
      "F1 Score (male): 0.858\n",
      "F1 Score (average_f1): 0.655\n",
      "\n",
      "True Labels - Count (m): 114\n",
      "True Labels - Count (f): 37\n",
      "Predicted Labels - Count (m): 126\n",
      "Predicted Labels - Count (f): 25\n",
      "\n",
      "**************************\n",
      "\n"
     ]
    }
   ],
   "source": [
    "# Function to evaluate model performance and return relevant metrics\n",
    "def evaluate_model_performance(model, X_train_selected, X_test_selected, y_train, y_test):\n",
    "    model_train = model.fit(X_train_selected , y_train)\n",
    "\n",
    "    cv = RepeatedKFold(n_splits=5, n_repeats=3, random_state=42)\n",
    "    scores = cross_val_score(model_train, X_test_selected, y_test, scoring='accuracy', cv=cv, n_jobs=-1  )\n",
    "\n",
    "    y_pred = model_train.predict(X_test_selected)\n",
    "    print(model_train)\n",
    "    \n",
    "    f1_male = f1_score(y_test, y_pred, pos_label='m')\n",
    "    f1_female = f1_score(y_test, y_pred, pos_label='f')\n",
    "    average_f1 = (f1_male + f1_female) / 2\n",
    "    \n",
    "    conf_mat = confusion_matrix(y_test, y_pred)\n",
    "\n",
    "    return {'Accuracy': {'mean': mean(scores), 'std': std(scores)},\n",
    "            'F1 Score (male)': f1_male,\n",
    "            'F1 Score (female)': f1_female,\n",
    "            'Confusion Matrix': conf_mat,\n",
    "            'scores': scores,\n",
    "            'y_pred': y_pred,\n",
    "            'average_f1': average_f1,\n",
    "            'model': model_train}\n",
    "\n",
    "# Define hyperparameters for each model\n",
    "params = {'logistic_regression': {'C': [0.01, 0.1, 1, 10, 100], 'penalty': ['l1', 'l2']},\n",
    "          'knn': {'n_neighbors': [3, 5, 7], 'weights': ['uniform', 'distance']},\n",
    "          'decision_tree': {'max_depth': [3, 5, 7], 'criterion': ['gini', 'entropy']},\n",
    "          'svm': {'C': [0.01, 0.1, 1, 10, 100], 'kernel': ['linear', 'rbf']},\n",
    "          'linear_svc': {'C': [0.01, 0.1, 1, 10, 100], 'penalty': ['l1', 'l2'], 'dual': [False]},\n",
    "          'mlp': {'hidden_layer_sizes': [(50, 50, 50), (50, 100, 50), (100,)],\n",
    "                  'activation': ['tanh', 'relu'],\n",
    "                  'solver': ['sgd', 'adam'],\n",
    "                  'alpha': [0.0001, 0.05],\n",
    "                  'learning_rate': ['constant', 'adaptive']},\n",
    "          'perceptron': {'alpha': [0.0001, 0.05], 'penalty': [None, 'l2', 'l1', 'elasticnet']},\n",
    "          'sgd': {'loss': ['hinge', 'log', 'modified_huber', 'squared_hinge', 'perceptron'],\n",
    "                  'penalty': ['l2', 'l1', 'elasticnet'],\n",
    "                  'alpha': [0.0001, 0.05]}}\n",
    "\n",
    "# Define names for each model\n",
    "model_names = {'logistic_regression': LogisticRegression(),\n",
    "               'knn': KNeighborsClassifier(),\n",
    "               'decision_tree': DecisionTreeClassifier(),\n",
    "               'svm': SVC(),\n",
    "               'linear_svc': LinearSVC(),\n",
    "               'mlp': MLPClassifier(),\n",
    "               'perceptron': Perceptron(),\n",
    "               'sgd': SGDClassifier()}\n",
    "\n",
    "average_f1_scores = []\n",
    "\n",
    "# Prepare the data for the experiment\n",
    "X_train_selected, X_test_selected, X_train, X_test, y_train, y_test = prepare_data(ngram_range=(1, 1))\n",
    "\n",
    "# Find the best hyperparameters for the models\n",
    "best_hyperparams = find_best_hyperparams(model_names, X_train_selected, y_train)\n",
    "\n",
    "# Create machine learning models with the best hyperparameters\n",
    "models = create_models(best_hyperparams)\n",
    "\n",
    "# Evaluate the models and store results\n",
    "results, model_names = list(), list()\n",
    "y_preds = []\n",
    "score = {}\n",
    "dataframes_dict = {}\n",
    "\n",
    "for name, model in models.items():\n",
    "    print(name)\n",
    "    \n",
    "    scores = evaluate_model_performance(model, X_train_selected, X_test_selected, y_train, y_test)\n",
    "    results.append(scores['scores'])\n",
    "    model_names.append(name)\n",
    "    score[name] = scores\n",
    "    y_preds.append(scores['y_pred'])\n",
    "    print('>%s Accuracy: %.3f (%.3f)' % (name, scores['Accuracy']['mean'], scores['Accuracy']['std']))\n",
    "    print('F1 Score (female): %.3f' % (scores['F1 Score (female)']))\n",
    "    print('F1 Score (male): %.3f' % (scores['F1 Score (male)']))\n",
    "    print('F1 Score (average_f1): %.3f\\n' % (scores['average_f1']))\n",
    "    average_f1_scores.append(scores['average_f1'])  # Store the average F1 score\n",
    "\n",
    "    # Print counts of 'm' and 'f' for true labels (y_test)\n",
    "    count_m_true = sum(1 for label in y_test if label == 'm')\n",
    "    count_f_true = sum(1 for label in y_test if label == 'f')\n",
    "    print('True Labels - Count (m):', count_m_true)\n",
    "    print('True Labels - Count (f):', count_f_true)\n",
    "    \n",
    "    # Print counts of 'm' and 'f' for predicted labels (y_pred)\n",
    "    count_m_pred = sum(1 for label in scores['y_pred'] if label == 'm')\n",
    "    count_f_pred = sum(1 for label in scores['y_pred'] if label == 'f')\n",
    "    print('Predicted Labels - Count (m):', count_m_pred)\n",
    "    print('Predicted Labels - Count (f):', count_f_pred)\n",
    "    \n",
    "    \n",
    "    # Print DataFrame for each story with predicted and real values\n",
    "    for i, story in enumerate(X_test):\n",
    "        df = pd.DataFrame({'Real Value': y_test, 'Predicted Value': scores['y_pred']})\n",
    "    dataframes_dict[name] = df\n",
    "\n",
    "    print('\\n**************************\\n')\n"
   ]
  },
  {
   "cell_type": "code",
   "execution_count": 16,
   "metadata": {},
   "outputs": [
    {
     "data": {
      "image/png": "[encoded data removed]",
      "text/plain": [
       "<Figure size 1200x800 with 1 Axes>"
      ]
     },
     "metadata": {},
     "output_type": "display_data"
    }
   ],
   "source": [
    "# Plot the average F1 scores\n",
    "def plot_average_f1_scores(average_f1_scores, model_names):\n",
    "    x = np.arange(len(model_names))\n",
    "    plt.figure(figsize=(12, 8))\n",
    "    plt.bar(x, average_f1_scores, tick_label=model_names)\n",
    "    plt.xlabel('Model')\n",
    "    plt.ylabel('Average F1 Score')\n",
    "    plt.title('Average F1 Score for Each Model')\n",
    "    plt.xticks(rotation=45)\n",
    "    plt.show()\n",
    "\n",
    "plot_average_f1_scores(average_f1_scores, model_names)"
   ]
  },
  {
   "cell_type": "code",
   "execution_count": 17,
   "metadata": {},
   "outputs": [
    {
     "name": "stdout",
     "output_type": "stream",
     "text": [
      "The Perceptron with a average_f1 of 0.758 is the best model:\n"
     ]
    },
    {
     "data": {
      "text/html": [
       "<div>\n",
       "<style scoped>\n",
       "    .dataframe tbody tr th:only-of-type {\n",
       "        vertical-align: middle;\n",
       "    }\n",
       "\n",
       "    .dataframe tbody tr th {\n",
       "        vertical-align: top;\n",
       "    }\n",
       "\n",
       "    .dataframe thead th {\n",
       "        text-align: right;\n",
       "    }\n",
       "</style>\n",
       "<table border=\"1\" class=\"dataframe\">\n",
       "  <thead>\n",
       "    <tr style=\"text-align: right;\">\n",
       "      <th></th>\n",
       "      <th>Real Value</th>\n",
       "      <th>Predicted Value</th>\n",
       "    </tr>\n",
       "  </thead>\n",
       "  <tbody>\n",
       "    <tr>\n",
       "      <th>716</th>\n",
       "      <td>m</td>\n",
       "      <td>m</td>\n",
       "    </tr>\n",
       "    <tr>\n",
       "      <th>651</th>\n",
       "      <td>m</td>\n",
       "      <td>m</td>\n",
       "    </tr>\n",
       "    <tr>\n",
       "      <th>371</th>\n",
       "      <td>f</td>\n",
       "      <td>m</td>\n",
       "    </tr>\n",
       "    <tr>\n",
       "      <th>77</th>\n",
       "      <td>f</td>\n",
       "      <td>m</td>\n",
       "    </tr>\n",
       "    <tr>\n",
       "      <th>212</th>\n",
       "      <td>f</td>\n",
       "      <td>f</td>\n",
       "    </tr>\n",
       "    <tr>\n",
       "      <th>...</th>\n",
       "      <td>...</td>\n",
       "      <td>...</td>\n",
       "    </tr>\n",
       "    <tr>\n",
       "      <th>332</th>\n",
       "      <td>m</td>\n",
       "      <td>m</td>\n",
       "    </tr>\n",
       "    <tr>\n",
       "      <th>90</th>\n",
       "      <td>m</td>\n",
       "      <td>m</td>\n",
       "    </tr>\n",
       "    <tr>\n",
       "      <th>356</th>\n",
       "      <td>m</td>\n",
       "      <td>f</td>\n",
       "    </tr>\n",
       "    <tr>\n",
       "      <th>652</th>\n",
       "      <td>m</td>\n",
       "      <td>m</td>\n",
       "    </tr>\n",
       "    <tr>\n",
       "      <th>69</th>\n",
       "      <td>m</td>\n",
       "      <td>m</td>\n",
       "    </tr>\n",
       "  </tbody>\n",
       "</table>\n",
       "<p>151 rows × 2 columns</p>\n",
       "</div>"
      ],
      "text/plain": [
       "    Real Value Predicted Value\n",
       "716          m               m\n",
       "651          m               m\n",
       "371          f               m\n",
       "77           f               m\n",
       "212          f               f\n",
       "..         ...             ...\n",
       "332          m               m\n",
       "90           m               m\n",
       "356          m               f\n",
       "652          m               m\n",
       "69           m               m\n",
       "\n",
       "[151 rows x 2 columns]"
      ]
     },
     "execution_count": 17,
     "metadata": {},
     "output_type": "execute_result"
    }
   ],
   "source": [
    "print(\"The Perceptron with a average_f1 of 0.758 is the best model:\")\n",
    "dataframes_dict[\"perceptron\"]"
   ]
  },
  {
   "cell_type": "markdown",
   "metadata": {},
   "source": [
    "# So our best model is : Perceptron with a average_f1 of 0.758"
   ]
  },
  {
   "cell_type": "markdown",
   "metadata": {},
   "source": [
    "### Save output to csv (optional)\n",
    "After you're done save your output to the 'classification_results.csv' csv file.<br/>\n",
    "We assume that the dataframe with your results contain the following columns:\n",
    "* column 1 (left column): 'test_example_id'  - the same id associated to each of the test stories to be predicted.\n",
    "* column 2 (right column): 'predicted_category' - the predicted gender value for each of the associated story. \n",
    "\n",
    "Assuming your predicted values are in the `df_predicted` dataframe, you should save you're results as following:"
   ]
  },
  {
   "cell_type": "code",
   "execution_count": null,
   "metadata": {},
   "outputs": [],
   "source": [
    "df_predicted.to_csv('classification_results.csv',index=False)"
   ]
  }
 ],
 "metadata": {
  "celltoolbar": "Create Assignment",
  "kernelspec": {
   "display_name": "Python 3 (ipykernel)",
   "language": "python",
   "name": "python3"
  },
  "language_info": {
   "codemirror_mode": {
    "name": "ipython",
    "version": 3
   },
   "file_extension": ".py",
   "mimetype": "text/x-python",
   "name": "python",
   "nbconvert_exporter": "python",
   "pygments_lexer": "ipython3",
   "version": "3.9.13"
  }
 },
 "nbformat": 4,
 "nbformat_minor": 4
}
